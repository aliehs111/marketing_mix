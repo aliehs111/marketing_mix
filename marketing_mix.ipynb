{
 "cells": [
  {
   "cell_type": "code",
   "execution_count": 1,
   "id": "1ab9f07c-2327-42b9-b0f6-0759fef81e4d",
   "metadata": {},
   "outputs": [
    {
     "name": "stdout",
     "output_type": "stream",
     "text": [
      "<class 'pandas.core.frame.DataFrame'>\n",
      "RangeIndex: 2240 entries, 0 to 2239\n",
      "Data columns (total 28 columns):\n",
      " #   Column               Non-Null Count  Dtype \n",
      "---  ------               --------------  ----- \n",
      " 0   ID                   2240 non-null   int64 \n",
      " 1   Year_Birth           2240 non-null   int64 \n",
      " 2   Education            2240 non-null   object\n",
      " 3   Marital_Status       2240 non-null   object\n",
      " 4    Income              2216 non-null   object\n",
      " 5   Kidhome              2240 non-null   int64 \n",
      " 6   Teenhome             2240 non-null   int64 \n",
      " 7   Dt_Customer          2240 non-null   object\n",
      " 8   Recency              2240 non-null   int64 \n",
      " 9   MntWines             2240 non-null   int64 \n",
      " 10  MntFruits            2240 non-null   int64 \n",
      " 11  MntMeatProducts      2240 non-null   int64 \n",
      " 12  MntFishProducts      2240 non-null   int64 \n",
      " 13  MntSweetProducts     2240 non-null   int64 \n",
      " 14  MntGoldProds         2240 non-null   int64 \n",
      " 15  NumDealsPurchases    2240 non-null   int64 \n",
      " 16  NumWebPurchases      2240 non-null   int64 \n",
      " 17  NumCatalogPurchases  2240 non-null   int64 \n",
      " 18  NumStorePurchases    2240 non-null   int64 \n",
      " 19  NumWebVisitsMonth    2240 non-null   int64 \n",
      " 20  AcceptedCmp3         2240 non-null   int64 \n",
      " 21  AcceptedCmp4         2240 non-null   int64 \n",
      " 22  AcceptedCmp5         2240 non-null   int64 \n",
      " 23  AcceptedCmp1         2240 non-null   int64 \n",
      " 24  AcceptedCmp2         2240 non-null   int64 \n",
      " 25  Response             2240 non-null   int64 \n",
      " 26  Complain             2240 non-null   int64 \n",
      " 27  Country              2240 non-null   object\n",
      "dtypes: int64(23), object(5)\n",
      "memory usage: 490.1+ KB\n"
     ]
    },
    {
     "data": {
      "text/html": [
       "<div>\n",
       "<style scoped>\n",
       "    .dataframe tbody tr th:only-of-type {\n",
       "        vertical-align: middle;\n",
       "    }\n",
       "\n",
       "    .dataframe tbody tr th {\n",
       "        vertical-align: top;\n",
       "    }\n",
       "\n",
       "    .dataframe thead th {\n",
       "        text-align: right;\n",
       "    }\n",
       "</style>\n",
       "<table border=\"1\" class=\"dataframe\">\n",
       "  <thead>\n",
       "    <tr style=\"text-align: right;\">\n",
       "      <th></th>\n",
       "      <th>ID</th>\n",
       "      <th>Year_Birth</th>\n",
       "      <th>Education</th>\n",
       "      <th>Marital_Status</th>\n",
       "      <th>Income</th>\n",
       "      <th>Kidhome</th>\n",
       "      <th>Teenhome</th>\n",
       "      <th>Dt_Customer</th>\n",
       "      <th>Recency</th>\n",
       "      <th>MntWines</th>\n",
       "      <th>...</th>\n",
       "      <th>NumStorePurchases</th>\n",
       "      <th>NumWebVisitsMonth</th>\n",
       "      <th>AcceptedCmp3</th>\n",
       "      <th>AcceptedCmp4</th>\n",
       "      <th>AcceptedCmp5</th>\n",
       "      <th>AcceptedCmp1</th>\n",
       "      <th>AcceptedCmp2</th>\n",
       "      <th>Response</th>\n",
       "      <th>Complain</th>\n",
       "      <th>Country</th>\n",
       "    </tr>\n",
       "  </thead>\n",
       "  <tbody>\n",
       "    <tr>\n",
       "      <th>0</th>\n",
       "      <td>1826</td>\n",
       "      <td>1970</td>\n",
       "      <td>Graduation</td>\n",
       "      <td>Divorced</td>\n",
       "      <td>$84,835.00</td>\n",
       "      <td>0</td>\n",
       "      <td>0</td>\n",
       "      <td>6/16/14</td>\n",
       "      <td>0</td>\n",
       "      <td>189</td>\n",
       "      <td>...</td>\n",
       "      <td>6</td>\n",
       "      <td>1</td>\n",
       "      <td>0</td>\n",
       "      <td>0</td>\n",
       "      <td>0</td>\n",
       "      <td>0</td>\n",
       "      <td>0</td>\n",
       "      <td>1</td>\n",
       "      <td>0</td>\n",
       "      <td>SP</td>\n",
       "    </tr>\n",
       "    <tr>\n",
       "      <th>1</th>\n",
       "      <td>1</td>\n",
       "      <td>1961</td>\n",
       "      <td>Graduation</td>\n",
       "      <td>Single</td>\n",
       "      <td>$57,091.00</td>\n",
       "      <td>0</td>\n",
       "      <td>0</td>\n",
       "      <td>6/15/14</td>\n",
       "      <td>0</td>\n",
       "      <td>464</td>\n",
       "      <td>...</td>\n",
       "      <td>7</td>\n",
       "      <td>5</td>\n",
       "      <td>0</td>\n",
       "      <td>0</td>\n",
       "      <td>0</td>\n",
       "      <td>0</td>\n",
       "      <td>1</td>\n",
       "      <td>1</td>\n",
       "      <td>0</td>\n",
       "      <td>CA</td>\n",
       "    </tr>\n",
       "    <tr>\n",
       "      <th>2</th>\n",
       "      <td>10476</td>\n",
       "      <td>1958</td>\n",
       "      <td>Graduation</td>\n",
       "      <td>Married</td>\n",
       "      <td>$67,267.00</td>\n",
       "      <td>0</td>\n",
       "      <td>1</td>\n",
       "      <td>5/13/14</td>\n",
       "      <td>0</td>\n",
       "      <td>134</td>\n",
       "      <td>...</td>\n",
       "      <td>5</td>\n",
       "      <td>2</td>\n",
       "      <td>0</td>\n",
       "      <td>0</td>\n",
       "      <td>0</td>\n",
       "      <td>0</td>\n",
       "      <td>0</td>\n",
       "      <td>0</td>\n",
       "      <td>0</td>\n",
       "      <td>US</td>\n",
       "    </tr>\n",
       "    <tr>\n",
       "      <th>3</th>\n",
       "      <td>1386</td>\n",
       "      <td>1967</td>\n",
       "      <td>Graduation</td>\n",
       "      <td>Together</td>\n",
       "      <td>$32,474.00</td>\n",
       "      <td>1</td>\n",
       "      <td>1</td>\n",
       "      <td>5/11/14</td>\n",
       "      <td>0</td>\n",
       "      <td>10</td>\n",
       "      <td>...</td>\n",
       "      <td>2</td>\n",
       "      <td>7</td>\n",
       "      <td>0</td>\n",
       "      <td>0</td>\n",
       "      <td>0</td>\n",
       "      <td>0</td>\n",
       "      <td>0</td>\n",
       "      <td>0</td>\n",
       "      <td>0</td>\n",
       "      <td>AUS</td>\n",
       "    </tr>\n",
       "    <tr>\n",
       "      <th>4</th>\n",
       "      <td>5371</td>\n",
       "      <td>1989</td>\n",
       "      <td>Graduation</td>\n",
       "      <td>Single</td>\n",
       "      <td>$21,474.00</td>\n",
       "      <td>1</td>\n",
       "      <td>0</td>\n",
       "      <td>4/8/14</td>\n",
       "      <td>0</td>\n",
       "      <td>6</td>\n",
       "      <td>...</td>\n",
       "      <td>2</td>\n",
       "      <td>7</td>\n",
       "      <td>1</td>\n",
       "      <td>0</td>\n",
       "      <td>0</td>\n",
       "      <td>0</td>\n",
       "      <td>0</td>\n",
       "      <td>1</td>\n",
       "      <td>0</td>\n",
       "      <td>SP</td>\n",
       "    </tr>\n",
       "  </tbody>\n",
       "</table>\n",
       "<p>5 rows × 28 columns</p>\n",
       "</div>"
      ],
      "text/plain": [
       "      ID  Year_Birth   Education Marital_Status      Income   Kidhome  \\\n",
       "0   1826        1970  Graduation       Divorced  $84,835.00         0   \n",
       "1      1        1961  Graduation         Single  $57,091.00         0   \n",
       "2  10476        1958  Graduation        Married  $67,267.00         0   \n",
       "3   1386        1967  Graduation       Together  $32,474.00         1   \n",
       "4   5371        1989  Graduation         Single  $21,474.00         1   \n",
       "\n",
       "   Teenhome Dt_Customer  Recency  MntWines  ...  NumStorePurchases  \\\n",
       "0         0     6/16/14        0       189  ...                  6   \n",
       "1         0     6/15/14        0       464  ...                  7   \n",
       "2         1     5/13/14        0       134  ...                  5   \n",
       "3         1     5/11/14        0        10  ...                  2   \n",
       "4         0      4/8/14        0         6  ...                  2   \n",
       "\n",
       "   NumWebVisitsMonth  AcceptedCmp3  AcceptedCmp4  AcceptedCmp5  AcceptedCmp1  \\\n",
       "0                  1             0             0             0             0   \n",
       "1                  5             0             0             0             0   \n",
       "2                  2             0             0             0             0   \n",
       "3                  7             0             0             0             0   \n",
       "4                  7             1             0             0             0   \n",
       "\n",
       "   AcceptedCmp2  Response  Complain  Country  \n",
       "0             0         1         0       SP  \n",
       "1             1         1         0       CA  \n",
       "2             0         0         0       US  \n",
       "3             0         0         0      AUS  \n",
       "4             0         1         0       SP  \n",
       "\n",
       "[5 rows x 28 columns]"
      ]
     },
     "execution_count": 1,
     "metadata": {},
     "output_type": "execute_result"
    }
   ],
   "source": [
    "import pandas as pd\n",
    "\n",
    "df = pd.read_csv('marketing_data.csv')\n",
    "df.isnull().sum()\n",
    "df.info()\n",
    "# df.columns\n",
    "df.head()"
   ]
  },
  {
   "cell_type": "code",
   "execution_count": 2,
   "id": "87c63267-a682-445c-830f-aaf592aa208a",
   "metadata": {},
   "outputs": [
    {
     "name": "stdout",
     "output_type": "stream",
     "text": [
      "0    $84,835.00 \n",
      "1    $57,091.00 \n",
      "2    $67,267.00 \n",
      "3    $32,474.00 \n",
      "4    $21,474.00 \n",
      "5    $71,691.00 \n",
      "6    $63,564.00 \n",
      "7    $44,931.00 \n",
      "8    $65,324.00 \n",
      "9    $65,324.00 \n",
      "Name:  Income , dtype: object\n"
     ]
    }
   ],
   "source": [
    "print(df[' Income '].head(10))\n",
    "# probably will delete this cell\n"
   ]
  },
  {
   "cell_type": "code",
   "execution_count": 3,
   "id": "78a5eed0-22a6-4558-9540-ee932944baf0",
   "metadata": {},
   "outputs": [],
   "source": [
    "# 1. After importing the data, examine variables such as Dt_Customer and Income to verify their accurate importation.  "
   ]
  },
  {
   "cell_type": "code",
   "execution_count": 4,
   "id": "080ac39b-2210-4bad-b284-03f8a216c368",
   "metadata": {},
   "outputs": [
    {
     "name": "stdout",
     "output_type": "stream",
     "text": [
      "['ID', 'Year_Birth', 'Education', 'Marital_Status', ' Income ', 'Kidhome', 'Teenhome', 'Dt_Customer', 'Recency', 'MntWines', 'MntFruits', 'MntMeatProducts', 'MntFishProducts', 'MntSweetProducts', 'MntGoldProds', 'NumDealsPurchases', 'NumWebPurchases', 'NumCatalogPurchases', 'NumStorePurchases', 'NumWebVisitsMonth', 'AcceptedCmp3', 'AcceptedCmp4', 'AcceptedCmp5', 'AcceptedCmp1', 'AcceptedCmp2', 'Response', 'Complain', 'Country']\n"
     ]
    }
   ],
   "source": [
    "print(df.columns.tolist())\n"
   ]
  },
  {
   "cell_type": "code",
   "execution_count": 5,
   "id": "66b67006-34c5-4bfa-9ef7-882d4e18127a",
   "metadata": {},
   "outputs": [
    {
     "name": "stdout",
     "output_type": "stream",
     "text": [
      "['ID', 'Year_Birth', 'Education', 'Marital_Status', 'Income', 'Kidhome', 'Teenhome', 'Dt_Customer', 'Recency', 'MntWines', 'MntFruits', 'MntMeatProducts', 'MntFishProducts', 'MntSweetProducts', 'MntGoldProds', 'NumDealsPurchases', 'NumWebPurchases', 'NumCatalogPurchases', 'NumStorePurchases', 'NumWebVisitsMonth', 'AcceptedCmp3', 'AcceptedCmp4', 'AcceptedCmp5', 'AcceptedCmp1', 'AcceptedCmp2', 'Response', 'Complain', 'Country']\n"
     ]
    }
   ],
   "source": [
    "## I notice there is a space in income\n",
    "df.columns = df.columns.str.strip()\n",
    "print(df.columns.tolist()) # print to check and see if it's corrected.  \n",
    "\n",
    "# the list of columns is small enough to visually check the rest of them for similar issues.  If it was a really large dataset, I would proactively strip them all.  If there were any special characters in the column names I would get rid of those too but I don't see any here."
   ]
  },
  {
   "cell_type": "code",
   "execution_count": 6,
   "id": "6ab8abf1-4844-4963-84cd-bb202fe0662d",
   "metadata": {},
   "outputs": [
    {
     "name": "stdout",
     "output_type": "stream",
     "text": [
      "0        6/16/14\n",
      "1        6/15/14\n",
      "2        5/13/14\n",
      "3        5/11/14\n",
      "4         4/8/14\n",
      "          ...   \n",
      "2235      3/7/13\n",
      "2236     1/22/13\n",
      "2237     12/3/12\n",
      "2238    11/29/12\n",
      "2239      9/1/12\n",
      "Name: Dt_Customer, Length: 2240, dtype: object\n"
     ]
    }
   ],
   "source": [
    "print(df['Dt_Customer'])                     "
   ]
  },
  {
   "cell_type": "code",
   "execution_count": 7,
   "id": "189af199-a53f-40c4-9c04-ab60e23bef5b",
   "metadata": {},
   "outputs": [],
   "source": [
    "# this data is not in the correct datetime format (as also we learn from .info the datatype is an object) so I need to convert it."
   ]
  },
  {
   "cell_type": "code",
   "execution_count": 8,
   "id": "9460deb2-799e-4b94-ae14-62f016060ea9",
   "metadata": {},
   "outputs": [
    {
     "name": "stdout",
     "output_type": "stream",
     "text": [
      "0    6/16/14\n",
      "1    6/15/14\n",
      "2    5/13/14\n",
      "3    5/11/14\n",
      "4     4/8/14\n",
      "Name: Dt_Customer, dtype: object\n"
     ]
    }
   ],
   "source": [
    "print(df['Dt_Customer'].head())\n"
   ]
  },
  {
   "cell_type": "code",
   "execution_count": 9,
   "id": "0724a5e6-60f2-4c94-aa73-146faaa706a7",
   "metadata": {},
   "outputs": [
    {
     "name": "stdout",
     "output_type": "stream",
     "text": [
      "0   2014-06-16\n",
      "1   2014-06-15\n",
      "2   2014-05-13\n",
      "3   2014-05-11\n",
      "4   2014-04-08\n",
      "Name: Dt_Customer, dtype: datetime64[ns]\n"
     ]
    }
   ],
   "source": [
    "df['Dt_Customer'] = pd.to_datetime(df['Dt_Customer'], format='%m/%d/%y')\n",
    "print(df['Dt_Customer'].head()) # to see if it works\n"
   ]
  },
  {
   "cell_type": "code",
   "execution_count": 10,
   "id": "530f80cb-3a5a-46b9-a646-2142eb92200c",
   "metadata": {},
   "outputs": [
    {
     "name": "stdout",
     "output_type": "stream",
     "text": [
      "0    $84,835.00 \n",
      "1    $57,091.00 \n",
      "2    $67,267.00 \n",
      "3    $32,474.00 \n",
      "4    $21,474.00 \n",
      "5    $71,691.00 \n",
      "6    $63,564.00 \n",
      "7    $44,931.00 \n",
      "8    $65,324.00 \n",
      "9    $65,324.00 \n",
      "Name: Income, dtype: object\n"
     ]
    }
   ],
   "source": [
    "## 2. There are missing income values for some customers. Conduct missing value imputation, considering that customers with similar education and marital status tend to have comparable yearly incomes, on average. It may be necessary to cleanse the data before proceeding. Specifically, scrutinize the categories of education and marital status for data cleaning.  \n",
    "print(df['Income'].head(10)) # first see what the data looks like\n"
   ]
  },
  {
   "cell_type": "code",
   "execution_count": 11,
   "id": "8b0da530-e110-430b-9bb2-e85d0ba1c59f",
   "metadata": {},
   "outputs": [
    {
     "name": "stdout",
     "output_type": "stream",
     "text": [
      "0    84835.0\n",
      "1    57091.0\n",
      "2    67267.0\n",
      "3    32474.0\n",
      "4    21474.0\n",
      "Name: Income, dtype: float64\n"
     ]
    }
   ],
   "source": [
    "# convert income to numeric \n",
    "df['Income'] = df['Income'].replace({'\\$': '', ',': ''}, regex=True).astype(float)\n",
    "# check to see if it worked\n",
    "print(df['Income'].head())\n",
    "\n",
    "                          "
   ]
  },
  {
   "cell_type": "code",
   "execution_count": 12,
   "id": "93490e54-74a6-47ae-b54b-604fa74e1a42",
   "metadata": {},
   "outputs": [
    {
     "name": "stdout",
     "output_type": "stream",
     "text": [
      "Missing Income values: 24\n"
     ]
    }
   ],
   "source": [
    "print(\"Missing Income values:\", df['Income'].isnull().sum())\n"
   ]
  },
  {
   "cell_type": "code",
   "execution_count": 13,
   "id": "f0de852a-4b36-4c89-8e20-c1ff95f1e1e4",
   "metadata": {},
   "outputs": [
    {
     "name": "stdout",
     "output_type": "stream",
     "text": [
      "['Graduation' 'PhD' '2n Cycle' 'Master' 'Basic']\n",
      "['Divorced' 'Single' 'Married' 'Together' 'Widow' 'YOLO' 'Alone' 'Absurd']\n"
     ]
    }
   ],
   "source": [
    "# so if I want to fill in the missing income values with the mean of what would be similar education and marital status, I want to take a look at that data first and see if anything needs to be cleaned up before I start working with it.\n",
    "print(df['Education'].unique())\n",
    "print(df['Marital_Status'].unique())\n"
   ]
  },
  {
   "cell_type": "code",
   "execution_count": 14,
   "id": "388d3c68-4e57-41fa-b8e4-4d0648ede5ab",
   "metadata": {},
   "outputs": [
    {
     "name": "stdout",
     "output_type": "stream",
     "text": [
      "Marital_Status\n",
      "Married     864\n",
      "Together    580\n",
      "Single      480\n",
      "Divorced    232\n",
      "Widow        77\n",
      "Alone         3\n",
      "YOLO          2\n",
      "Absurd        2\n",
      "Name: count, dtype: int64\n"
     ]
    }
   ],
   "source": [
    "# some of the smartass answers for marital status could be a problem so checking to see how frequent they are and if I need to do anything with them\n",
    "print(df['Marital_Status'].value_counts())\n"
   ]
  },
  {
   "cell_type": "code",
   "execution_count": 15,
   "id": "474f9818-bea1-4c73-a6a8-05df9a415a51",
   "metadata": {},
   "outputs": [
    {
     "name": "stdout",
     "output_type": "stream",
     "text": [
      "Marital_Status\n",
      "Married     864\n",
      "Together    580\n",
      "Single      487\n",
      "Divorced    232\n",
      "Widow        77\n",
      "Name: count, dtype: int64\n"
     ]
    }
   ],
   "source": [
    "# decided to group the marital status oddball entries in with \"single\" \n",
    "df['Marital_Status'] = df['Marital_Status'].replace({'Alone': 'Single', 'YOLO': 'Single', 'Absurd': 'Single'})\n",
    "# see if it worked\n",
    "print(df['Marital_Status'].value_counts())"
   ]
  },
  {
   "cell_type": "code",
   "execution_count": 16,
   "id": "72754322-7f69-4fab-98a5-d29d38d3c6b0",
   "metadata": {},
   "outputs": [
    {
     "name": "stdout",
     "output_type": "stream",
     "text": [
      "Education   Marital_Status\n",
      "2n Cycle    Divorced          49395.13\n",
      "            Married           46201.10\n",
      "            Single            53673.94\n",
      "            Together          44736.41\n",
      "            Widow             51392.20\n",
      "Basic       Divorced           9548.00\n",
      "            Married           21960.50\n",
      "            Single            18238.67\n",
      "            Together          21240.07\n",
      "            Widow             22123.00\n",
      "Graduation  Divorced          54526.04\n",
      "            Married           50800.26\n",
      "            Single            51365.63\n",
      "            Together          55758.48\n",
      "            Widow             54976.66\n",
      "Master      Divorced          50331.95\n",
      "            Married           53286.03\n",
      "            Single            53787.14\n",
      "            Together          52109.01\n",
      "            Widow             58401.55\n",
      "PhD         Divorced          53096.62\n",
      "            Married           58138.03\n",
      "            Single            53039.67\n",
      "            Together          56041.42\n",
      "            Widow             60288.08\n",
      "Name: Income, dtype: float64\n"
     ]
    }
   ],
   "source": [
    "group_means = df.groupby(['Education', 'Marital_Status'])['Income'].mean().round(2)\n",
    "print(group_means)\n",
    "\n"
   ]
  },
  {
   "cell_type": "code",
   "execution_count": 17,
   "id": "1ddbf7eb-10f6-4d8d-8dff-9da21f4be764",
   "metadata": {},
   "outputs": [
    {
     "name": "stdout",
     "output_type": "stream",
     "text": [
      "Remaining missing Income values: 0\n"
     ]
    }
   ],
   "source": [
    "# defining the function to fill lin missing income values based on the mean values corresponding to similar groups\n",
    "def impute_income(row):\n",
    "    if pd.isnull(row['Income']):\n",
    "        try:\n",
    "            return group_means.loc[(row['Education'], row['Marital_Status'])]\n",
    "        except KeyError:\n",
    "            return df['Income'].mean()  # Fallback option\n",
    "    return row['Income']\n",
    "\n",
    "df['Income'] = df.apply(impute_income, axis=1)\n",
    "# confirm this worked\n",
    "print(\"Remaining missing Income values:\", df['Income'].isnull().sum())\n"
   ]
  },
  {
   "cell_type": "code",
   "execution_count": 19,
   "id": "b5afab20-0698-465d-94a4-23ebe3f7d304",
   "metadata": {},
   "outputs": [
    {
     "data": {
      "text/plain": [
       "Index(['ID', 'Year_Birth', 'Education', 'Marital_Status', 'Income', 'Kidhome',\n",
       "       'Teenhome', 'Dt_Customer', 'Recency', 'MntWines', 'MntFruits',\n",
       "       'MntMeatProducts', 'MntFishProducts', 'MntSweetProducts',\n",
       "       'MntGoldProds', 'NumDealsPurchases', 'NumWebPurchases',\n",
       "       'NumCatalogPurchases', 'NumStorePurchases', 'NumWebVisitsMonth',\n",
       "       'AcceptedCmp3', 'AcceptedCmp4', 'AcceptedCmp5', 'AcceptedCmp1',\n",
       "       'AcceptedCmp2', 'Response', 'Complain', 'Country', 'Total_Children',\n",
       "       'Age'],\n",
       "      dtype='object')"
      ]
     },
     "execution_count": 19,
     "metadata": {},
     "output_type": "execute_result"
    }
   ],
   "source": [
    "# 3. Create variables to represent the total number of children, age, and total spending.  Derive the total purchases from the number of transactions across the three channels.\n",
    "## make new column for all children\n",
    "df['Total_Children'] = df['Kidhome'] + df['Teenhome']\n",
    "## get the age of the children (using 2014 because that's what the Dt_customer dates are from\n",
    "df['Age'] = 2014 - df['Year_Birth']\n",
    "df.columns # check if it worked"
   ]
  },
  {
   "cell_type": "code",
   "execution_count": 21,
   "id": "f99e4b0c-fa12-4a7c-b34a-a38bd681392b",
   "metadata": {},
   "outputs": [
    {
     "name": "stdout",
     "output_type": "stream",
     "text": [
      "    Total_Children  Age  Total_Spending  Total_Purchases\n",
      "0                0   44            1190               14\n",
      "1                0   53             577               17\n",
      "2                1   56             251               10\n",
      "3                2   47              11                3\n",
      "4                1   25              91                6\n",
      "5                0   56            1192               16\n",
      "6                0   60            1215               27\n",
      "7                1   47              96                6\n",
      "8                1   60             544               17\n",
      "9                1   60             544               17\n",
      "10               0   67            1208               21\n",
      "11               1   35             222               10\n",
      "12               0   55            1156               15\n",
      "13               0   33              72                4\n",
      "14               1   45             359               25\n",
      "15               2   37             174                8\n",
      "16               2   37             174                8\n",
      "17               1   56              22                4\n",
      "18               1   54              72                5\n",
      "19               3   56              13                3\n",
      "20               1   60             335               12\n",
      "21               1   48             393               14\n",
      "22               1   35              92                6\n",
      "23               1   38             404               14\n",
      "24               1   45             704               22\n",
      "25               1   49             122                7\n",
      "26               2   58             684               19\n",
      "27               2   58             684               19\n",
      "28               2   58              45                5\n",
      "29               0   39             726               15\n"
     ]
    }
   ],
   "source": [
    "# add a column for total spending\n",
    "df['Total_Spending'] = (df['MntWines'] + df['MntFruits'] + df['MntMeatProducts'] +\n",
    "                        df['MntFishProducts'] + df['MntSweetProducts'] + df['MntGoldProds'])\n",
    "# for the number of transactions accross the three chanels\n",
    "df['Total_Purchases'] = (df['NumWebPurchases'] + df['NumCatalogPurchases'] + df['NumStorePurchases'])\n",
    "# check if it makes sense\n",
    "print(df[['Total_Children', 'Age', 'Total_Spending', 'Total_Purchases']].head(30))"
   ]
  },
  {
   "cell_type": "code",
   "execution_count": null,
   "id": "bb70fcdd-1c5a-4e71-a59e-fce57516934a",
   "metadata": {},
   "outputs": [],
   "source": []
  }
 ],
 "metadata": {
  "kernelspec": {
   "display_name": "Python 3 (ipykernel)",
   "language": "python",
   "name": "python3"
  },
  "language_info": {
   "codemirror_mode": {
    "name": "ipython",
    "version": 3
   },
   "file_extension": ".py",
   "mimetype": "text/x-python",
   "name": "python",
   "nbconvert_exporter": "python",
   "pygments_lexer": "ipython3",
   "version": "3.11.5"
  }
 },
 "nbformat": 4,
 "nbformat_minor": 5
}
