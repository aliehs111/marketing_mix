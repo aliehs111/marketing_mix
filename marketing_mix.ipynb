{
 "cells": [
  {
   "cell_type": "code",
   "execution_count": 26,
   "id": "1ab9f07c-2327-42b9-b0f6-0759fef81e4d",
   "metadata": {},
   "outputs": [
    {
     "name": "stdout",
     "output_type": "stream",
     "text": [
      "<class 'pandas.core.frame.DataFrame'>\n",
      "RangeIndex: 2240 entries, 0 to 2239\n",
      "Data columns (total 28 columns):\n",
      " #   Column               Non-Null Count  Dtype \n",
      "---  ------               --------------  ----- \n",
      " 0   ID                   2240 non-null   int64 \n",
      " 1   Year_Birth           2240 non-null   int64 \n",
      " 2   Education            2240 non-null   object\n",
      " 3   Marital_Status       2240 non-null   object\n",
      " 4    Income              2216 non-null   object\n",
      " 5   Kidhome              2240 non-null   int64 \n",
      " 6   Teenhome             2240 non-null   int64 \n",
      " 7   Dt_Customer          2240 non-null   object\n",
      " 8   Recency              2240 non-null   int64 \n",
      " 9   MntWines             2240 non-null   int64 \n",
      " 10  MntFruits            2240 non-null   int64 \n",
      " 11  MntMeatProducts      2240 non-null   int64 \n",
      " 12  MntFishProducts      2240 non-null   int64 \n",
      " 13  MntSweetProducts     2240 non-null   int64 \n",
      " 14  MntGoldProds         2240 non-null   int64 \n",
      " 15  NumDealsPurchases    2240 non-null   int64 \n",
      " 16  NumWebPurchases      2240 non-null   int64 \n",
      " 17  NumCatalogPurchases  2240 non-null   int64 \n",
      " 18  NumStorePurchases    2240 non-null   int64 \n",
      " 19  NumWebVisitsMonth    2240 non-null   int64 \n",
      " 20  AcceptedCmp3         2240 non-null   int64 \n",
      " 21  AcceptedCmp4         2240 non-null   int64 \n",
      " 22  AcceptedCmp5         2240 non-null   int64 \n",
      " 23  AcceptedCmp1         2240 non-null   int64 \n",
      " 24  AcceptedCmp2         2240 non-null   int64 \n",
      " 25  Response             2240 non-null   int64 \n",
      " 26  Complain             2240 non-null   int64 \n",
      " 27  Country              2240 non-null   object\n",
      "dtypes: int64(23), object(5)\n",
      "memory usage: 490.1+ KB\n"
     ]
    }
   ],
   "source": [
    "import pandas as pd\n",
    "\n",
    "df = pd.read_csv('marketing_data.csv')\n",
    "df.isnull().sum()\n",
    "df.info()\n",
    "# df.columns\n",
    "# df.head(20)"
   ]
  },
  {
   "cell_type": "code",
   "execution_count": 27,
   "id": "78a5eed0-22a6-4558-9540-ee932944baf0",
   "metadata": {},
   "outputs": [],
   "source": [
    "# 1. After importing the data, examine variables such as Dt\\_Customer and Income to verify their accurate importation.  "
   ]
  },
  {
   "cell_type": "code",
   "execution_count": 29,
   "id": "080ac39b-2210-4bad-b284-03f8a216c368",
   "metadata": {},
   "outputs": [
    {
     "name": "stdout",
     "output_type": "stream",
     "text": [
      "['ID', 'Year_Birth', 'Education', 'Marital_Status', ' Income ', 'Kidhome', 'Teenhome', 'Dt_Customer', 'Recency', 'MntWines', 'MntFruits', 'MntMeatProducts', 'MntFishProducts', 'MntSweetProducts', 'MntGoldProds', 'NumDealsPurchases', 'NumWebPurchases', 'NumCatalogPurchases', 'NumStorePurchases', 'NumWebVisitsMonth', 'AcceptedCmp3', 'AcceptedCmp4', 'AcceptedCmp5', 'AcceptedCmp1', 'AcceptedCmp2', 'Response', 'Complain', 'Country']\n"
     ]
    }
   ],
   "source": [
    "print(df.columns.tolist())\n"
   ]
  },
  {
   "cell_type": "code",
   "execution_count": 32,
   "id": "66b67006-34c5-4bfa-9ef7-882d4e18127a",
   "metadata": {},
   "outputs": [
    {
     "name": "stdout",
     "output_type": "stream",
     "text": [
      "['ID', 'Year_Birth', 'Education', 'Marital_Status', 'Income', 'Kidhome', 'Teenhome', 'Dt_Customer', 'Recency', 'MntWines', 'MntFruits', 'MntMeatProducts', 'MntFishProducts', 'MntSweetProducts', 'MntGoldProds', 'NumDealsPurchases', 'NumWebPurchases', 'NumCatalogPurchases', 'NumStorePurchases', 'NumWebVisitsMonth', 'AcceptedCmp3', 'AcceptedCmp4', 'AcceptedCmp5', 'AcceptedCmp1', 'AcceptedCmp2', 'Response', 'Complain', 'Country']\n"
     ]
    }
   ],
   "source": [
    "## I notice there is a space in income\n",
    "df.columns = df.columns.str.strip()\n",
    "df['Income'] = df['Income'].str.strip() \n",
    "print(df.columns.tolist())\n",
    "\n"
   ]
  },
  {
   "cell_type": "code",
   "execution_count": 21,
   "id": "6ab8abf1-4844-4963-84cd-bb202fe0662d",
   "metadata": {},
   "outputs": [
    {
     "name": "stdout",
     "output_type": "stream",
     "text": [
      "0      2014-06-16\n",
      "1      2014-06-15\n",
      "2      2014-05-13\n",
      "3      2014-05-11\n",
      "4      2014-04-08\n",
      "          ...    \n",
      "2235   2013-03-07\n",
      "2236   2013-01-22\n",
      "2237   2012-12-03\n",
      "2238   2012-11-29\n",
      "2239   2012-09-01\n",
      "Name: Dt_Customer, Length: 2240, dtype: datetime64[ns]\n"
     ]
    }
   ],
   "source": [
    "print(df['Dt_Customer'])"
   ]
  },
  {
   "cell_type": "code",
   "execution_count": 12,
   "id": "189af199-a53f-40c4-9c04-ab60e23bef5b",
   "metadata": {},
   "outputs": [],
   "source": [
    "# this data is not in the correct datetime format (as also we learn from .info the datatype is an object) so I need to convert it."
   ]
  },
  {
   "cell_type": "code",
   "execution_count": 16,
   "id": "0724a5e6-60f2-4c94-aa73-146faaa706a7",
   "metadata": {},
   "outputs": [
    {
     "name": "stdout",
     "output_type": "stream",
     "text": [
      "0      2014-06-16\n",
      "1      2014-06-15\n",
      "2      2014-05-13\n",
      "3      2014-05-11\n",
      "4      2014-04-08\n",
      "          ...    \n",
      "2235   2013-03-07\n",
      "2236   2013-01-22\n",
      "2237   2012-12-03\n",
      "2238   2012-11-29\n",
      "2239   2012-09-01\n",
      "Name: Dt_Customer, Length: 2240, dtype: datetime64[ns]\n"
     ]
    }
   ],
   "source": [
    "df['Dt_Customer'] = pd.to_datetime(df['Dt_Customer'])\n",
    "print(df['Dt_Customer'])"
   ]
  },
  {
   "cell_type": "code",
   "execution_count": 33,
   "id": "8b0da530-e110-430b-9bb2-e85d0ba1c59f",
   "metadata": {},
   "outputs": [
    {
     "name": "stdout",
     "output_type": "stream",
     "text": [
      "0    0\n",
      "1    0\n",
      "2    0\n",
      "3    0\n",
      "4    0\n",
      "Name: Income, dtype: int64\n"
     ]
    }
   ],
   "source": [
    "# convert income to numeric \n",
    "df['Income'] = df['Income'].str.replace(',', '')\n",
    "df['Income'] = pd.to_numeric(df['Income'], errors='coerce').fillna(0).astype(int)\n",
    "\n",
    "print(df['Income'].head())                             "
   ]
  },
  {
   "cell_type": "code",
   "execution_count": null,
   "id": "4c5df035-0868-4bce-beff-6332285bb05a",
   "metadata": {},
   "outputs": [],
   "source": []
  }
 ],
 "metadata": {
  "kernelspec": {
   "display_name": "Python 3 (ipykernel)",
   "language": "python",
   "name": "python3"
  },
  "language_info": {
   "codemirror_mode": {
    "name": "ipython",
    "version": 3
   },
   "file_extension": ".py",
   "mimetype": "text/x-python",
   "name": "python",
   "nbconvert_exporter": "python",
   "pygments_lexer": "ipython3",
   "version": "3.11.5"
  }
 },
 "nbformat": 4,
 "nbformat_minor": 5
}
